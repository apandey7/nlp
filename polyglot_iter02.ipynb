{
  "nbformat": 4,
  "nbformat_minor": 0,
  "metadata": {
    "colab": {
      "name": "Untitled1.ipynb",
      "provenance": [],
      "collapsed_sections": [],
      "include_colab_link": true
    },
    "kernelspec": {
      "name": "python3",
      "display_name": "Python 3"
    }
  },
  "cells": [
    {
      "cell_type": "markdown",
      "metadata": {
        "id": "view-in-github",
        "colab_type": "text"
      },
      "source": [
        "<a href=\"https://colab.research.google.com/github/apandey7/nlp/blob/master/polyglot_iter02.ipynb\" target=\"_parent\"><img src=\"https://colab.research.google.com/assets/colab-badge.svg\" alt=\"Open In Colab\"/></a>"
      ]
    },
    {
      "cell_type": "code",
      "metadata": {
        "id": "5cgZK-gBH-fe",
        "colab_type": "code",
        "colab": {}
      },
      "source": [
        "!pip install polyglot\n",
        "!pip install pyICU\n",
        "!pip install pycld2\n",
        "!pip install morfessor\n",
        "!polyglot download transliteration2.gl\n",
        "!polyglot download embeddings2.en\n",
        "!polyglot download embeddings2.hi\n",
        "!polyglot download pos2.en\n",
        "!polyglot download embeddings2.en transliteration2.ar\n",
        "!polyglot download transliteration2.hi\n",
        "!pip install translate\n",
        "!polyglot download morph2.en morph2.ar\n",
        "!polyglot download morph2.hi\n"
      ],
      "execution_count": 0,
      "outputs": []
    },
    {
      "cell_type": "code",
      "metadata": {
        "id": "ph1Bf64uIIRZ",
        "colab_type": "code",
        "colab": {}
      },
      "source": [
        "from polyglot.transliteration import Transliterator\n",
        "from polyglot.downloader import downloader\n",
        "print(downloader.supported_languages_table(\"transliteration2\"))\n",
        "from polyglot.text import Text,Word\n",
        "\n",
        "#testing transliterate code\n",
        "#words = [\"preprocessing\", \"processor\", \"invaluable\", \"thankful\", \"crossed\"]\n",
        "for w in text.transliterate(\"hi\"):\n",
        "#for w in words:\n",
        "  w = Word(w, language=\"hi\")\n",
        "  print(\"{:<20}{}\".format(w, w.morphemes))\n",
        "\n",
        "#Hindi written in english script converted to hindi script\n",
        "lstHinWrds = []\n",
        "from translate import Translator\n",
        "for x in text.transliterate(\"hi\"):\n",
        "  print(\"x= \",x)\n",
        "  lstHinWrds.append(x)\n",
        "#  translator= Translator(to_lang=\"en\")\n",
        "#  translation = translator.translate(x)\n",
        "#  print(\"translation = \", translation)\n",
        "\n",
        "\n",
        "#Converting back Hindi script to english\n",
        "lstEngWrds = []\n",
        "from translate import Translator\n",
        "for x in lstHinWrds:\n",
        "  print(\"x= \",x.translate(\"en\"))\n",
        "  lstEngWrds.append(x.translate(\"en\"))\n",
        "#Result not as expected -----------------------------"
      ],
      "execution_count": 0,
      "outputs": []
    },
    {
      "cell_type": "code",
      "metadata": {
        "id": "zstl4I3jrAsg",
        "colab_type": "code",
        "colab": {}
      },
      "source": [
        "#Consolidated program\n",
        "#Uncomment dependencies and install\n",
        "#!pip install googletrans\n",
        "blob = \"\"\"bura ganda acha badhiya badiya ro mt mat plz problem constipation nahi nhi\"\"\"\n",
        "text = Text(blob, hint_language_code='en')\n",
        "print(\"Sentence from source: \",text)\n",
        "\n",
        "###Converting hindi written in english to Hindi\n",
        "lstHinWrds = []\n",
        "for x in text.transliterate(target_language=\"hi\"):\n",
        "  lstHinWrds.append(x)\n",
        "\n",
        "### Converting transliterated hindi words back to english for processing\n",
        "from googletrans import Translator\n",
        "#translator = Translator()\n",
        "translator = Translator(service_urls=['translate.google.com','translate.google.co.kr'])\n",
        "for x in lstHinWrds:\n",
        "  y = translator.translate(x, dest='en')\n",
        "  print(\"hindi word: \",x,\"translated English = \",y.text)\n",
        "  lstEngWrds.append(y)\n",
        "\n",
        "\n",
        "  "
      ],
      "execution_count": 0,
      "outputs": []
    },
    {
      "cell_type": "code",
      "metadata": {
        "id": "0SUToFYqLDo9",
        "colab_type": "code",
        "colab": {}
      },
      "source": [
        "#Consolidated program\n",
        "#Uncomment dependencies and install\n",
        "#!pip install googletrans\n",
        "blob = \"\"\"bura ganda acha badhiya badiya ro mt mat plz problem constipation nahi nhi\"\"\"\n",
        "text = Text(blob, hint_language_code='en')\n",
        "print(\"Sentence from source: \",text)\n",
        "\n",
        "###Converting hindi written in english to Hindi\n",
        "lstHinWrds = []\n",
        "lstEngWrds = []\n",
        "for x in text.transliterate(target_language=\"en\"):\n",
        "  y = translator.translate(x, dest='hi')\n",
        "  print(\"hindi word: \",x,\"translated English = \",y.text)\n",
        "  lstHinWrds.append(x)\n",
        "\n",
        "for x in lstHinWrds:\n",
        "  y = translator.translate(x, dest='en')\n",
        "  lstEngWrds.append(y)\n",
        "  print(\"hindi word: \",x,\"translated English = \",y.text)\n",
        "\n"
      ],
      "execution_count": 0,
      "outputs": []
    },
    {
      "cell_type": "code",
      "metadata": {
        "colab_type": "code",
        "id": "zJtyFTT1pTYq",
        "colab": {}
      },
      "source": [
        "#POS Tagging\n",
        "text.pos_tags"
      ],
      "execution_count": 0,
      "outputs": []
    }
  ]
}